{
 "cells": [
  {
   "cell_type": "code",
   "execution_count": 1,
   "metadata": {},
   "outputs": [],
   "source": [
    "# Import our dependencies\n",
    "import pandas as pd\n",
    "import matplotlib as plt\n",
    "from sklearn.datasets import make_blobs\n",
    "import sklearn as skl\n",
    "import tensorflow as tf"
   ]
  },
  {
   "cell_type": "code",
   "execution_count": 2,
   "metadata": {},
   "outputs": [
    {
     "data": {
      "text/plain": [
       "<matplotlib.axes._subplots.AxesSubplot at 0x1a44d1aa90>"
      ]
     },
     "execution_count": 2,
     "metadata": {},
     "output_type": "execute_result"
    },
    {
     "data": {
      "image/png": "[encoded data removed]",
      "text/plain": [
       "<Figure size 432x288 with 2 Axes>"
      ]
     },
     "metadata": {
      "needs_background": "light"
     },
     "output_type": "display_data"
    }
   ],
   "source": [
    "# Generate dummy dataset\n",
    "X, y = make_blobs(n_samples=1000, centers=2, n_features=2, random_state=78)\n",
    "\n",
    "# Creating a DataFrame with the dummy data\n",
    "df = pd.DataFrame(X, columns=[\"Feature 1\", \"Feature 2\"])\n",
    "df[\"Target\"] = y\n",
    "\n",
    "# Plotting the dummy data\n",
    "df.plot.scatter(x=\"Feature 1\", y=\"Feature 2\", c=\"Target\", colormap=\"winter\")"
   ]
  },
  {
   "cell_type": "code",
   "execution_count": 3,
   "metadata": {},
   "outputs": [],
   "source": [
    "# Use sklearn to split dataset\n",
    "from sklearn.model_selection import train_test_split\n",
    "X_train, X_test, y_train, y_test = train_test_split(X, y, random_state=78)"
   ]
  },
  {
   "cell_type": "code",
   "execution_count": 4,
   "metadata": {},
   "outputs": [],
   "source": [
    "# Create scaler instance\n",
    "X_scaler = skl.preprocessing.StandardScaler()\n",
    "\n",
    "# Fit the scaler\n",
    "X_scaler.fit(X_train)\n",
    "\n",
    "# Scale the data\n",
    "X_train_scaled = X_scaler.transform(X_train)\n",
    "X_test_scaled = X_scaler.transform(X_test)"
   ]
  },
  {
   "cell_type": "code",
   "execution_count": 5,
   "metadata": {},
   "outputs": [],
   "source": [
    "# Create the Keras Sequential model\n",
    "nn_model = tf.keras.models.Sequential()"
   ]
  },
  {
   "cell_type": "code",
   "execution_count": 6,
   "metadata": {},
   "outputs": [],
   "source": [
    "# Add our first Dense layer, including the input layer\n",
    "nn_model.add(tf.keras.layers.Dense(units=1, activation=\"relu\", input_dim=2))"
   ]
  },
  {
   "cell_type": "code",
   "execution_count": 7,
   "metadata": {},
   "outputs": [],
   "source": [
    "# Add the output layer that uses a probability activation function\n",
    "nn_model.add(tf.keras.layers.Dense(units=1, activation=\"sigmoid\"))"
   ]
  },
  {
   "cell_type": "code",
   "execution_count": 8,
   "metadata": {},
   "outputs": [
    {
     "name": "stdout",
     "output_type": "stream",
     "text": [
      "Model: \"sequential\"\n",
      "_________________________________________________________________\n",
      "Layer (type)                 Output Shape              Param #   \n",
      "=================================================================\n",
      "dense (Dense)                (None, 1)                 3         \n",
      "_________________________________________________________________\n",
      "dense_1 (Dense)              (None, 1)                 2         \n",
      "=================================================================\n",
      "Total params: 5\n",
      "Trainable params: 5\n",
      "Non-trainable params: 0\n",
      "_________________________________________________________________\n"
     ]
    }
   ],
   "source": [
    "# Check the structure of the Sequential model\n",
    "nn_model.summary()"
   ]
  },
  {
   "cell_type": "code",
   "execution_count": 9,
   "metadata": {},
   "outputs": [],
   "source": [
    "# Compile the Sequential model together and customize metrics\n",
    "nn_model.compile(loss=\"binary_crossentropy\", optimizer=\"adam\", metrics=[\"accuracy\"])\n"
   ]
  },
  {
   "cell_type": "code",
   "execution_count": 10,
   "metadata": {},
   "outputs": [
    {
     "name": "stdout",
     "output_type": "stream",
     "text": [
      "Train on 750 samples\n",
      "Epoch 1/100\n",
      "750/750 [==============================] - 2s 3ms/sample - loss: 0.6318 - accuracy: 0.8653\n",
      "Epoch 2/100\n",
      "750/750 [==============================] - 0s 143us/sample - loss: 0.6225 - accuracy: 0.8920\n",
      "Epoch 3/100\n",
      "750/750 [==============================] - 0s 132us/sample - loss: 0.6121 - accuracy: 0.9253\n",
      "Epoch 4/100\n",
      "750/750 [==============================] - 0s 176us/sample - loss: 0.6008 - accuracy: 0.9427\n",
      "Epoch 5/100\n",
      "750/750 [==============================] - 0s 127us/sample - loss: 0.5884 - accuracy: 0.9613\n",
      "Epoch 6/100\n",
      "750/750 [==============================] - 0s 131us/sample - loss: 0.5754 - accuracy: 0.9667\n",
      "Epoch 7/100\n",
      "750/750 [==============================] - 0s 138us/sample - loss: 0.5617 - accuracy: 0.9813\n",
      "Epoch 8/100\n",
      "750/750 [==============================] - 0s 126us/sample - loss: 0.5474 - accuracy: 0.9880\n",
      "Epoch 9/100\n",
      "750/750 [==============================] - 0s 151us/sample - loss: 0.5328 - accuracy: 0.9920\n",
      "Epoch 10/100\n",
      "750/750 [==============================] - 0s 136us/sample - loss: 0.5179 - accuracy: 0.9947\n",
      "Epoch 11/100\n",
      "750/750 [==============================] - 0s 179us/sample - loss: 0.5031 - accuracy: 0.9973\n",
      "Epoch 12/100\n",
      "750/750 [==============================] - 0s 152us/sample - loss: 0.4882 - accuracy: 0.9987\n",
      "Epoch 13/100\n",
      "750/750 [==============================] - 0s 155us/sample - loss: 0.4733 - accuracy: 1.0000\n",
      "Epoch 14/100\n",
      "750/750 [==============================] - 0s 197us/sample - loss: 0.4586 - accuracy: 1.0000\n",
      "Epoch 15/100\n",
      "750/750 [==============================] - 0s 198us/sample - loss: 0.4442 - accuracy: 1.0000\n",
      "Epoch 16/100\n",
      "750/750 [==============================] - 0s 134us/sample - loss: 0.4301 - accuracy: 1.0000\n",
      "Epoch 17/100\n",
      "750/750 [==============================] - 0s 136us/sample - loss: 0.4164 - accuracy: 1.0000\n",
      "Epoch 18/100\n",
      "750/750 [==============================] - 0s 122us/sample - loss: 0.4031 - accuracy: 1.0000\n",
      "Epoch 19/100\n",
      "750/750 [==============================] - 0s 166us/sample - loss: 0.3902 - accuracy: 1.0000\n",
      "Epoch 20/100\n",
      "750/750 [==============================] - 0s 145us/sample - loss: 0.3777 - accuracy: 1.0000\n",
      "Epoch 21/100\n",
      "750/750 [==============================] - 0s 129us/sample - loss: 0.3657 - accuracy: 1.0000\n",
      "Epoch 22/100\n",
      "750/750 [==============================] - 0s 121us/sample - loss: 0.3542 - accuracy: 1.0000\n",
      "Epoch 23/100\n",
      "750/750 [==============================] - 0s 130us/sample - loss: 0.3430 - accuracy: 1.0000\n",
      "Epoch 24/100\n",
      "750/750 [==============================] - 0s 121us/sample - loss: 0.3324 - accuracy: 1.0000\n",
      "Epoch 25/100\n",
      "750/750 [==============================] - 0s 133us/sample - loss: 0.3222 - accuracy: 1.0000\n",
      "Epoch 26/100\n",
      "750/750 [==============================] - 0s 205us/sample - loss: 0.3124 - accuracy: 1.0000\n",
      "Epoch 27/100\n",
      "750/750 [==============================] - 0s 268us/sample - loss: 0.3030 - accuracy: 1.0000\n",
      "Epoch 28/100\n",
      "750/750 [==============================] - 0s 130us/sample - loss: 0.2941 - accuracy: 1.0000\n",
      "Epoch 29/100\n",
      "750/750 [==============================] - 0s 132us/sample - loss: 0.2856 - accuracy: 1.0000\n",
      "Epoch 30/100\n",
      "750/750 [==============================] - 0s 119us/sample - loss: 0.2774 - accuracy: 1.0000\n",
      "Epoch 31/100\n",
      "750/750 [==============================] - 0s 114us/sample - loss: 0.2696 - accuracy: 1.0000\n",
      "Epoch 32/100\n",
      "750/750 [==============================] - 0s 138us/sample - loss: 0.2621 - accuracy: 1.0000\n",
      "Epoch 33/100\n",
      "750/750 [==============================] - 0s 201us/sample - loss: 0.2550 - accuracy: 1.0000\n",
      "Epoch 34/100\n",
      "750/750 [==============================] - 0s 185us/sample - loss: 0.2481 - accuracy: 1.0000\n",
      "Epoch 35/100\n",
      "750/750 [==============================] - 0s 128us/sample - loss: 0.2416 - accuracy: 1.0000\n",
      "Epoch 36/100\n",
      "750/750 [==============================] - 0s 133us/sample - loss: 0.2353 - accuracy: 1.0000\n",
      "Epoch 37/100\n",
      "750/750 [==============================] - 0s 126us/sample - loss: 0.2293 - accuracy: 1.0000\n",
      "Epoch 38/100\n",
      "750/750 [==============================] - 0s 177us/sample - loss: 0.2235 - accuracy: 1.0000\n",
      "Epoch 39/100\n",
      "750/750 [==============================] - 0s 173us/sample - loss: 0.2179 - accuracy: 1.0000\n",
      "Epoch 40/100\n",
      "750/750 [==============================] - 0s 210us/sample - loss: 0.2126 - accuracy: 1.0000\n",
      "Epoch 41/100\n",
      "750/750 [==============================] - 0s 128us/sample - loss: 0.2075 - accuracy: 1.0000\n",
      "Epoch 42/100\n",
      "750/750 [==============================] - 0s 182us/sample - loss: 0.2025 - accuracy: 1.0000\n",
      "Epoch 43/100\n",
      "750/750 [==============================] - 0s 142us/sample - loss: 0.1978 - accuracy: 1.0000\n",
      "Epoch 44/100\n",
      "750/750 [==============================] - 0s 266us/sample - loss: 0.1932 - accuracy: 1.0000\n",
      "Epoch 45/100\n",
      "750/750 [==============================] - 0s 213us/sample - loss: 0.1888 - accuracy: 1.0000\n",
      "Epoch 46/100\n",
      "750/750 [==============================] - 0s 151us/sample - loss: 0.1846 - accuracy: 1.0000\n",
      "Epoch 47/100\n",
      "750/750 [==============================] - 0s 122us/sample - loss: 0.1805 - accuracy: 1.0000\n",
      "Epoch 48/100\n",
      "750/750 [==============================] - 0s 133us/sample - loss: 0.1765 - accuracy: 1.0000\n",
      "Epoch 49/100\n",
      "750/750 [==============================] - 0s 139us/sample - loss: 0.1727 - accuracy: 1.0000\n",
      "Epoch 50/100\n",
      "750/750 [==============================] - 0s 136us/sample - loss: 0.1690 - accuracy: 1.0000\n",
      "Epoch 51/100\n",
      "750/750 [==============================] - 0s 244us/sample - loss: 0.1654 - accuracy: 1.0000\n",
      "Epoch 52/100\n",
      "750/750 [==============================] - 0s 149us/sample - loss: 0.1619 - accuracy: 1.0000\n",
      "Epoch 53/100\n",
      "750/750 [==============================] - 0s 163us/sample - loss: 0.1585 - accuracy: 1.0000\n",
      "Epoch 54/100\n",
      "750/750 [==============================] - 0s 150us/sample - loss: 0.1553 - accuracy: 1.0000\n",
      "Epoch 55/100\n",
      "750/750 [==============================] - 0s 113us/sample - loss: 0.1521 - accuracy: 1.0000\n",
      "Epoch 56/100\n",
      "750/750 [==============================] - 0s 120us/sample - loss: 0.1491 - accuracy: 1.0000\n",
      "Epoch 57/100\n",
      "750/750 [==============================] - 0s 116us/sample - loss: 0.1461 - accuracy: 1.0000\n",
      "Epoch 58/100\n",
      "750/750 [==============================] - 0s 113us/sample - loss: 0.1432 - accuracy: 1.0000\n",
      "Epoch 59/100\n",
      "750/750 [==============================] - 0s 122us/sample - loss: 0.1404 - accuracy: 1.0000\n",
      "Epoch 60/100\n",
      "750/750 [==============================] - 0s 120us/sample - loss: 0.1377 - accuracy: 1.0000\n",
      "Epoch 61/100\n",
      "750/750 [==============================] - 0s 140us/sample - loss: 0.1351 - accuracy: 1.0000\n",
      "Epoch 62/100\n",
      "750/750 [==============================] - 0s 142us/sample - loss: 0.1325 - accuracy: 1.0000\n",
      "Epoch 63/100\n",
      "750/750 [==============================] - 0s 114us/sample - loss: 0.1300 - accuracy: 1.0000\n",
      "Epoch 64/100\n",
      "750/750 [==============================] - 0s 124us/sample - loss: 0.1276 - accuracy: 1.0000\n",
      "Epoch 65/100\n",
      "750/750 [==============================] - 0s 113us/sample - loss: 0.1252 - accuracy: 1.0000\n",
      "Epoch 66/100\n",
      "750/750 [==============================] - 0s 119us/sample - loss: 0.1229 - accuracy: 1.0000\n",
      "Epoch 67/100\n",
      "750/750 [==============================] - 0s 130us/sample - loss: 0.1207 - accuracy: 1.0000\n",
      "Epoch 68/100\n",
      "750/750 [==============================] - 0s 120us/sample - loss: 0.1185 - accuracy: 1.0000\n",
      "Epoch 69/100\n",
      "750/750 [==============================] - 0s 126us/sample - loss: 0.1164 - accuracy: 1.0000\n",
      "Epoch 70/100\n",
      "750/750 [==============================] - 0s 129us/sample - loss: 0.1143 - accuracy: 1.0000\n",
      "Epoch 71/100\n",
      "750/750 [==============================] - 0s 113us/sample - loss: 0.1123 - accuracy: 1.0000\n",
      "Epoch 72/100\n",
      "750/750 [==============================] - 0s 138us/sample - loss: 0.1104 - accuracy: 1.0000\n",
      "Epoch 73/100\n",
      "750/750 [==============================] - 0s 132us/sample - loss: 0.1085 - accuracy: 1.0000\n",
      "Epoch 74/100\n",
      "750/750 [==============================] - 0s 124us/sample - loss: 0.1066 - accuracy: 1.0000\n",
      "Epoch 75/100\n",
      "750/750 [==============================] - 0s 180us/sample - loss: 0.1047 - accuracy: 1.0000\n",
      "Epoch 76/100\n",
      "750/750 [==============================] - 0s 226us/sample - loss: 0.1030 - accuracy: 1.0000\n",
      "Epoch 77/100\n",
      "750/750 [==============================] - 0s 237us/sample - loss: 0.1012 - accuracy: 1.0000\n",
      "Epoch 78/100\n"
     ]
    },
    {
     "name": "stdout",
     "output_type": "stream",
     "text": [
      "750/750 [==============================] - 0s 205us/sample - loss: 0.0996 - accuracy: 1.0000\n",
      "Epoch 79/100\n",
      "750/750 [==============================] - 0s 108us/sample - loss: 0.0979 - accuracy: 1.0000\n",
      "Epoch 80/100\n",
      "750/750 [==============================] - 0s 98us/sample - loss: 0.0963 - accuracy: 1.0000\n",
      "Epoch 81/100\n",
      "750/750 [==============================] - 0s 108us/sample - loss: 0.0947 - accuracy: 1.0000\n",
      "Epoch 82/100\n",
      "750/750 [==============================] - 0s 105us/sample - loss: 0.0931 - accuracy: 1.0000\n",
      "Epoch 83/100\n",
      "750/750 [==============================] - 0s 112us/sample - loss: 0.0916 - accuracy: 1.0000\n",
      "Epoch 84/100\n",
      "750/750 [==============================] - 0s 121us/sample - loss: 0.0902 - accuracy: 1.0000\n",
      "Epoch 85/100\n",
      "750/750 [==============================] - 0s 126us/sample - loss: 0.0887 - accuracy: 1.0000\n",
      "Epoch 86/100\n",
      "750/750 [==============================] - 0s 116us/sample - loss: 0.0873 - accuracy: 1.0000\n",
      "Epoch 87/100\n",
      "750/750 [==============================] - 0s 114us/sample - loss: 0.0859 - accuracy: 1.0000\n",
      "Epoch 88/100\n",
      "750/750 [==============================] - 0s 110us/sample - loss: 0.0846 - accuracy: 1.0000\n",
      "Epoch 89/100\n",
      "750/750 [==============================] - 0s 112us/sample - loss: 0.0832 - accuracy: 1.0000\n",
      "Epoch 90/100\n",
      "750/750 [==============================] - 0s 115us/sample - loss: 0.0819 - accuracy: 1.0000\n",
      "Epoch 91/100\n",
      "750/750 [==============================] - 0s 154us/sample - loss: 0.0807 - accuracy: 1.0000\n",
      "Epoch 92/100\n",
      "750/750 [==============================] - 0s 163us/sample - loss: 0.0794 - accuracy: 1.0000\n",
      "Epoch 93/100\n",
      "750/750 [==============================] - 0s 116us/sample - loss: 0.0782 - accuracy: 1.0000\n",
      "Epoch 94/100\n",
      "750/750 [==============================] - 0s 118us/sample - loss: 0.0770 - accuracy: 1.0000\n",
      "Epoch 95/100\n",
      "750/750 [==============================] - 0s 105us/sample - loss: 0.0758 - accuracy: 1.0000\n",
      "Epoch 96/100\n",
      "750/750 [==============================] - 0s 103us/sample - loss: 0.0747 - accuracy: 1.0000\n",
      "Epoch 97/100\n",
      "750/750 [==============================] - 0s 103us/sample - loss: 0.0736 - accuracy: 1.0000\n",
      "Epoch 98/100\n",
      "750/750 [==============================] - 0s 108us/sample - loss: 0.0725 - accuracy: 1.0000\n",
      "Epoch 99/100\n",
      "750/750 [==============================] - 0s 106us/sample - loss: 0.0714 - accuracy: 1.0000\n",
      "Epoch 100/100\n",
      "750/750 [==============================] - 0s 112us/sample - loss: 0.0703 - accuracy: 1.0000\n"
     ]
    }
   ],
   "source": [
    "# Fit the model to the training data\n",
    "fit_model = nn_model.fit(X_train_scaled, y_train, epochs=100)"
   ]
  },
  {
   "cell_type": "code",
   "execution_count": 11,
   "metadata": {},
   "outputs": [
    {
     "data": {
      "text/plain": [
       "<matplotlib.axes._subplots.AxesSubplot at 0x1a45c71990>"
      ]
     },
     "execution_count": 11,
     "metadata": {},
     "output_type": "execute_result"
    },
    {
     "data": {
      "image/png": "[encoded data removed]",
      "text/plain": [
       "<Figure size 432x288 with 1 Axes>"
      ]
     },
     "metadata": {
      "needs_background": "light"
     },
     "output_type": "display_data"
    }
   ],
   "source": [
    "# Create a DataFrame containing training history\n",
    "history_df = pd.DataFrame(fit_model.history, index=range(1,len(fit_model.history[\"loss\"])+1))\n",
    "\n",
    "# Plot the loss\n",
    "history_df.plot(y=\"loss\")"
   ]
  },
  {
   "cell_type": "code",
   "execution_count": 12,
   "metadata": {},
   "outputs": [
    {
     "data": {
      "text/plain": [
       "<matplotlib.axes._subplots.AxesSubplot at 0x1a463a6b50>"
      ]
     },
     "execution_count": 12,
     "metadata": {},
     "output_type": "execute_result"
    },
    {
     "data": {
      "image/png": "[encoded data removed]",
      "text/plain": [
       "<Figure size 432x288 with 1 Axes>"
      ]
     },
     "metadata": {
      "needs_background": "light"
     },
     "output_type": "display_data"
    }
   ],
   "source": [
    "# Plot the accuracy\n",
    "history_df.plot(y=\"accuracy\")"
   ]
  },
  {
   "cell_type": "code",
   "execution_count": 13,
   "metadata": {},
   "outputs": [
    {
     "name": "stdout",
     "output_type": "stream",
     "text": [
      "250/1 - 0s - loss: 0.0741 - accuracy: 1.0000\n",
      "Loss: 0.06605259430408478, Accuracy: 1.0\n"
     ]
    }
   ],
   "source": [
    "# Evaluate the model using the test data\n",
    "model_loss, model_accuracy = nn_model.evaluate(X_test_scaled,y_test,verbose=2)\n",
    "print(f\"Loss: {model_loss}, Accuracy: {model_accuracy}\")"
   ]
  },
  {
   "cell_type": "code",
   "execution_count": 14,
   "metadata": {},
   "outputs": [
    {
     "data": {
      "text/plain": [
       "array([[0],\n",
       "       [1],\n",
       "       [0],\n",
       "       [1],\n",
       "       [0],\n",
       "       [0],\n",
       "       [1],\n",
       "       [1],\n",
       "       [1],\n",
       "       [0]], dtype=int32)"
      ]
     },
     "execution_count": 14,
     "metadata": {},
     "output_type": "execute_result"
    }
   ],
   "source": [
    "# Predict the classification of a new set of blob data\n",
    "new_X, new_Y = make_blobs(n_samples=10, centers=2, n_features=2, random_state=78)\n",
    "new_X_scaled = X_scaler.transform(new_X)\n",
    "nn_model.predict_classes(new_X_scaled)"
   ]
  },
  {
   "cell_type": "code",
   "execution_count": 15,
   "metadata": {},
   "outputs": [
    {
     "data": {
      "text/plain": [
       "<matplotlib.axes._subplots.AxesSubplot at 0x1a4676e550>"
      ]
     },
     "execution_count": 15,
     "metadata": {},
     "output_type": "execute_result"
    },
    {
     "data": {
      "image/png": "[encoded data removed]",
      "text/plain": [
       "<Figure size 432x288 with 2 Axes>"
      ]
     },
     "metadata": {
      "needs_background": "light"
     },
     "output_type": "display_data"
    }
   ],
   "source": [
    "from sklearn.datasets import make_moons\n",
    "\n",
    "# Creating dummy nonlinear data\n",
    "X_moons, y_moons = make_moons(n_samples=1000, noise=0.08, random_state=78)\n",
    "\n",
    "# Transforming y_moons to a vertical vector\n",
    "y_moons = y_moons.reshape(-1, 1)\n",
    "\n",
    "# Creating a DataFrame to plot the nonlinear dummy data\n",
    "df_moons = pd.DataFrame(X_moons, columns=[\"Feature 1\", \"Feature 2\"])\n",
    "df_moons[\"Target\"] = y_moons\n",
    "\n",
    "# Plot the nonlinear dummy data\n",
    "df_moons.plot.scatter(x=\"Feature 1\",y=\"Feature 2\", c=\"Target\",colormap=\"winter\")"
   ]
  },
  {
   "cell_type": "code",
   "execution_count": 16,
   "metadata": {},
   "outputs": [],
   "source": [
    "# Create training and testing sets\n",
    "X_moon_train, X_moon_test, y_moon_train, y_moon_test = train_test_split(\n",
    "    X_moons, y_moons, random_state=78\n",
    ")\n",
    "\n",
    "# Create the scaler instance\n",
    "X_moon_scaler = skl.preprocessing.StandardScaler()\n",
    "\n",
    "# Fit the scaler\n",
    "X_moon_scaler.fit(X_moon_train)\n",
    "\n",
    "# Scale the data\n",
    "X_moon_train_scaled = X_moon_scaler.transform(X_moon_train)\n",
    "X_moon_test_scaled = X_moon_scaler.transform(X_moon_test)"
   ]
  },
  {
   "cell_type": "code",
   "execution_count": 17,
   "metadata": {},
   "outputs": [
    {
     "name": "stdout",
     "output_type": "stream",
     "text": [
      "Train on 750 samples\n",
      "Epoch 1/100\n",
      "750/750 [==============================] - 0s 229us/sample - loss: 0.7853 - accuracy: 0.6213\n",
      "Epoch 2/100\n",
      "750/750 [==============================] - 0s 148us/sample - loss: 0.7050 - accuracy: 0.6427\n",
      "Epoch 3/100\n",
      "750/750 [==============================] - 0s 158us/sample - loss: 0.6495 - accuracy: 0.6573\n",
      "Epoch 4/100\n",
      "750/750 [==============================] - 0s 138us/sample - loss: 0.6090 - accuracy: 0.6720\n",
      "Epoch 5/100\n",
      "750/750 [==============================] - 0s 146us/sample - loss: 0.5786 - accuracy: 0.6827\n",
      "Epoch 6/100\n",
      "750/750 [==============================] - 0s 137us/sample - loss: 0.5546 - accuracy: 0.6920\n",
      "Epoch 7/100\n",
      "750/750 [==============================] - 0s 135us/sample - loss: 0.5350 - accuracy: 0.7040\n",
      "Epoch 8/100\n",
      "750/750 [==============================] - 0s 119us/sample - loss: 0.5182 - accuracy: 0.7120\n",
      "Epoch 9/100\n",
      "750/750 [==============================] - 0s 126us/sample - loss: 0.5038 - accuracy: 0.7187\n",
      "Epoch 10/100\n",
      "750/750 [==============================] - 0s 187us/sample - loss: 0.4904 - accuracy: 0.7293\n",
      "Epoch 11/100\n",
      "750/750 [==============================] - 0s 223us/sample - loss: 0.4786 - accuracy: 0.7387\n",
      "Epoch 12/100\n",
      "750/750 [==============================] - 0s 129us/sample - loss: 0.4680 - accuracy: 0.7427\n",
      "Epoch 13/100\n",
      "750/750 [==============================] - 0s 141us/sample - loss: 0.4582 - accuracy: 0.7507\n",
      "Epoch 14/100\n",
      "750/750 [==============================] - ETA: 0s - loss: 0.4623 - accuracy: 0.75 - 0s 125us/sample - loss: 0.4490 - accuracy: 0.7533\n",
      "Epoch 15/100\n",
      "750/750 [==============================] - 0s 163us/sample - loss: 0.4404 - accuracy: 0.7573\n",
      "Epoch 16/100\n",
      "750/750 [==============================] - 0s 136us/sample - loss: 0.4322 - accuracy: 0.7600\n",
      "Epoch 17/100\n",
      "750/750 [==============================] - 0s 126us/sample - loss: 0.4245 - accuracy: 0.7627\n",
      "Epoch 18/100\n",
      "750/750 [==============================] - 0s 151us/sample - loss: 0.4171 - accuracy: 0.7680\n",
      "Epoch 19/100\n",
      "750/750 [==============================] - 0s 148us/sample - loss: 0.4103 - accuracy: 0.7787\n",
      "Epoch 20/100\n",
      "750/750 [==============================] - 0s 135us/sample - loss: 0.4038 - accuracy: 0.7813\n",
      "Epoch 21/100\n",
      "750/750 [==============================] - 0s 130us/sample - loss: 0.3977 - accuracy: 0.7853\n",
      "Epoch 22/100\n",
      "750/750 [==============================] - 0s 128us/sample - loss: 0.3917 - accuracy: 0.7880\n",
      "Epoch 23/100\n",
      "750/750 [==============================] - 0s 149us/sample - loss: 0.3859 - accuracy: 0.7920\n",
      "Epoch 24/100\n",
      "750/750 [==============================] - 0s 140us/sample - loss: 0.3804 - accuracy: 0.7960\n",
      "Epoch 25/100\n",
      "750/750 [==============================] - 0s 142us/sample - loss: 0.3750 - accuracy: 0.8013\n",
      "Epoch 26/100\n",
      "750/750 [==============================] - 0s 120us/sample - loss: 0.3699 - accuracy: 0.8040\n",
      "Epoch 27/100\n",
      "750/750 [==============================] - 0s 140us/sample - loss: 0.3650 - accuracy: 0.8107\n",
      "Epoch 28/100\n",
      "750/750 [==============================] - 0s 123us/sample - loss: 0.3604 - accuracy: 0.8107\n",
      "Epoch 29/100\n",
      "750/750 [==============================] - 0s 166us/sample - loss: 0.3555 - accuracy: 0.8133\n",
      "Epoch 30/100\n",
      "750/750 [==============================] - 0s 132us/sample - loss: 0.3512 - accuracy: 0.8160\n",
      "Epoch 31/100\n",
      "750/750 [==============================] - 0s 114us/sample - loss: 0.3469 - accuracy: 0.8160\n",
      "Epoch 32/100\n",
      "750/750 [==============================] - 0s 124us/sample - loss: 0.3428 - accuracy: 0.8200\n",
      "Epoch 33/100\n",
      "750/750 [==============================] - 0s 117us/sample - loss: 0.3388 - accuracy: 0.8227\n",
      "Epoch 34/100\n",
      "750/750 [==============================] - 0s 124us/sample - loss: 0.3350 - accuracy: 0.8253\n",
      "Epoch 35/100\n",
      "750/750 [==============================] - 0s 143us/sample - loss: 0.3312 - accuracy: 0.8293\n",
      "Epoch 36/100\n",
      "750/750 [==============================] - 0s 143us/sample - loss: 0.3277 - accuracy: 0.8320\n",
      "Epoch 37/100\n",
      "750/750 [==============================] - 0s 123us/sample - loss: 0.3242 - accuracy: 0.8333\n",
      "Epoch 38/100\n",
      "750/750 [==============================] - 0s 132us/sample - loss: 0.3210 - accuracy: 0.8347\n",
      "Epoch 39/100\n",
      "750/750 [==============================] - 0s 129us/sample - loss: 0.3179 - accuracy: 0.8427\n",
      "Epoch 40/100\n",
      "750/750 [==============================] - 0s 151us/sample - loss: 0.3151 - accuracy: 0.8467\n",
      "Epoch 41/100\n",
      "750/750 [==============================] - 0s 120us/sample - loss: 0.3121 - accuracy: 0.8467\n",
      "Epoch 42/100\n",
      "750/750 [==============================] - 0s 125us/sample - loss: 0.3095 - accuracy: 0.8480\n",
      "Epoch 43/100\n",
      "750/750 [==============================] - 0s 131us/sample - loss: 0.3069 - accuracy: 0.8507\n",
      "Epoch 44/100\n",
      "750/750 [==============================] - 0s 126us/sample - loss: 0.3045 - accuracy: 0.8507\n",
      "Epoch 45/100\n",
      "750/750 [==============================] - 0s 130us/sample - loss: 0.3022 - accuracy: 0.8547\n",
      "Epoch 46/100\n",
      "750/750 [==============================] - 0s 116us/sample - loss: 0.3001 - accuracy: 0.8587\n",
      "Epoch 47/100\n",
      "750/750 [==============================] - 0s 127us/sample - loss: 0.2980 - accuracy: 0.8587\n",
      "Epoch 48/100\n",
      "750/750 [==============================] - 0s 131us/sample - loss: 0.2962 - accuracy: 0.8600\n",
      "Epoch 49/100\n",
      "750/750 [==============================] - 0s 152us/sample - loss: 0.2943 - accuracy: 0.8627\n",
      "Epoch 50/100\n",
      "750/750 [==============================] - 0s 129us/sample - loss: 0.2927 - accuracy: 0.8653\n",
      "Epoch 51/100\n",
      "750/750 [==============================] - 0s 131us/sample - loss: 0.2910 - accuracy: 0.8653\n",
      "Epoch 52/100\n",
      "750/750 [==============================] - 0s 142us/sample - loss: 0.2895 - accuracy: 0.8680\n",
      "Epoch 53/100\n",
      "750/750 [==============================] - 0s 131us/sample - loss: 0.2880 - accuracy: 0.8680\n",
      "Epoch 54/100\n",
      "750/750 [==============================] - 0s 136us/sample - loss: 0.2866 - accuracy: 0.8680\n",
      "Epoch 55/100\n",
      "750/750 [==============================] - 0s 116us/sample - loss: 0.2852 - accuracy: 0.8680\n",
      "Epoch 56/100\n",
      "750/750 [==============================] - 0s 126us/sample - loss: 0.2840 - accuracy: 0.8680\n",
      "Epoch 57/100\n",
      "750/750 [==============================] - 0s 118us/sample - loss: 0.2827 - accuracy: 0.8707\n",
      "Epoch 58/100\n",
      "750/750 [==============================] - 0s 123us/sample - loss: 0.2816 - accuracy: 0.8707\n",
      "Epoch 59/100\n",
      "750/750 [==============================] - 0s 114us/sample - loss: 0.2805 - accuracy: 0.8707\n",
      "Epoch 60/100\n",
      "750/750 [==============================] - 0s 127us/sample - loss: 0.2794 - accuracy: 0.8707\n",
      "Epoch 61/100\n",
      "750/750 [==============================] - 0s 126us/sample - loss: 0.2785 - accuracy: 0.8747\n",
      "Epoch 62/100\n",
      "750/750 [==============================] - 0s 187us/sample - loss: 0.2775 - accuracy: 0.8747\n",
      "Epoch 63/100\n",
      "750/750 [==============================] - 0s 145us/sample - loss: 0.2765 - accuracy: 0.8787\n",
      "Epoch 64/100\n",
      "750/750 [==============================] - 0s 162us/sample - loss: 0.2757 - accuracy: 0.8787\n",
      "Epoch 65/100\n",
      "750/750 [==============================] - 0s 139us/sample - loss: 0.2748 - accuracy: 0.8787\n",
      "Epoch 66/100\n",
      "750/750 [==============================] - 0s 109us/sample - loss: 0.2741 - accuracy: 0.8800\n",
      "Epoch 67/100\n",
      "750/750 [==============================] - 0s 130us/sample - loss: 0.2733 - accuracy: 0.8800\n",
      "Epoch 68/100\n",
      "750/750 [==============================] - 0s 108us/sample - loss: 0.2725 - accuracy: 0.8827\n",
      "Epoch 69/100\n",
      "750/750 [==============================] - 0s 255us/sample - loss: 0.2719 - accuracy: 0.8827\n",
      "Epoch 70/100\n",
      "750/750 [==============================] - 0s 159us/sample - loss: 0.2711 - accuracy: 0.8840\n",
      "Epoch 71/100\n",
      "750/750 [==============================] - 0s 179us/sample - loss: 0.2705 - accuracy: 0.8867\n",
      "Epoch 72/100\n",
      "750/750 [==============================] - 0s 129us/sample - loss: 0.2698 - accuracy: 0.8893\n",
      "Epoch 73/100\n",
      "750/750 [==============================] - 0s 131us/sample - loss: 0.2693 - accuracy: 0.8893\n",
      "Epoch 74/100\n",
      "750/750 [==============================] - 0s 127us/sample - loss: 0.2687 - accuracy: 0.8907\n",
      "Epoch 75/100\n",
      "750/750 [==============================] - 0s 140us/sample - loss: 0.2682 - accuracy: 0.8907\n",
      "Epoch 76/100\n",
      "750/750 [==============================] - 0s 188us/sample - loss: 0.2678 - accuracy: 0.8920\n",
      "Epoch 77/100\n"
     ]
    },
    {
     "name": "stdout",
     "output_type": "stream",
     "text": [
      "750/750 [==============================] - 0s 143us/sample - loss: 0.2671 - accuracy: 0.8907\n",
      "Epoch 78/100\n",
      "750/750 [==============================] - 0s 109us/sample - loss: 0.2666 - accuracy: 0.8933\n",
      "Epoch 79/100\n",
      "750/750 [==============================] - 0s 107us/sample - loss: 0.2661 - accuracy: 0.8933\n",
      "Epoch 80/100\n",
      "750/750 [==============================] - 0s 106us/sample - loss: 0.2656 - accuracy: 0.8933\n",
      "Epoch 81/100\n",
      "750/750 [==============================] - 0s 120us/sample - loss: 0.2652 - accuracy: 0.8933\n",
      "Epoch 82/100\n",
      "750/750 [==============================] - 0s 123us/sample - loss: 0.2648 - accuracy: 0.8933\n",
      "Epoch 83/100\n",
      "750/750 [==============================] - 0s 105us/sample - loss: 0.2644 - accuracy: 0.8933\n",
      "Epoch 84/100\n",
      "750/750 [==============================] - 0s 109us/sample - loss: 0.2640 - accuracy: 0.8933\n",
      "Epoch 85/100\n",
      "750/750 [==============================] - 0s 122us/sample - loss: 0.2636 - accuracy: 0.8933\n",
      "Epoch 86/100\n",
      "750/750 [==============================] - 0s 122us/sample - loss: 0.2632 - accuracy: 0.8933\n",
      "Epoch 87/100\n",
      "750/750 [==============================] - 0s 115us/sample - loss: 0.2628 - accuracy: 0.8933\n",
      "Epoch 88/100\n",
      "750/750 [==============================] - 0s 112us/sample - loss: 0.2625 - accuracy: 0.8920\n",
      "Epoch 89/100\n",
      "750/750 [==============================] - 0s 298us/sample - loss: 0.2621 - accuracy: 0.8920\n",
      "Epoch 90/100\n",
      "750/750 [==============================] - 0s 111us/sample - loss: 0.2618 - accuracy: 0.8920\n",
      "Epoch 91/100\n",
      "750/750 [==============================] - 0s 109us/sample - loss: 0.2615 - accuracy: 0.8920\n",
      "Epoch 92/100\n",
      "750/750 [==============================] - 0s 108us/sample - loss: 0.2613 - accuracy: 0.8920\n",
      "Epoch 93/100\n",
      "750/750 [==============================] - 0s 116us/sample - loss: 0.2609 - accuracy: 0.8907\n",
      "Epoch 94/100\n",
      "750/750 [==============================] - 0s 128us/sample - loss: 0.2607 - accuracy: 0.8907\n",
      "Epoch 95/100\n",
      "750/750 [==============================] - 0s 120us/sample - loss: 0.2604 - accuracy: 0.8907\n",
      "Epoch 96/100\n",
      "750/750 [==============================] - 0s 206us/sample - loss: 0.2601 - accuracy: 0.8907\n",
      "Epoch 97/100\n",
      "750/750 [==============================] - 0s 168us/sample - loss: 0.2599 - accuracy: 0.8920\n",
      "Epoch 98/100\n",
      "750/750 [==============================] - 0s 160us/sample - loss: 0.2597 - accuracy: 0.8920\n",
      "Epoch 99/100\n",
      "750/750 [==============================] - 0s 144us/sample - loss: 0.2593 - accuracy: 0.8920\n",
      "Epoch 100/100\n",
      "750/750 [==============================] - 0s 137us/sample - loss: 0.2592 - accuracy: 0.8920\n"
     ]
    }
   ],
   "source": [
    "# Training the model with the nonlinear data\n",
    "model_moon = nn_model.fit(X_moon_train_scaled, y_moon_train, epochs=100, shuffle=True)\n"
   ]
  },
  {
   "cell_type": "code",
   "execution_count": 18,
   "metadata": {},
   "outputs": [
    {
     "data": {
      "text/plain": [
       "<matplotlib.axes._subplots.AxesSubplot at 0x1a46942d10>"
      ]
     },
     "execution_count": 18,
     "metadata": {},
     "output_type": "execute_result"
    },
    {
     "data": {
      "image/png": "[encoded data removed]",
      "text/plain": [
       "<Figure size 432x288 with 1 Axes>"
      ]
     },
     "metadata": {
      "needs_background": "light"
     },
     "output_type": "display_data"
    }
   ],
   "source": [
    "# Create a DataFrame containing training history\n",
    "history_df = pd.DataFrame(model_moon.history, index=range(1,len(model_moon.history[\"loss\"])+1))\n",
    "\n",
    "# Plot the loss\n",
    "history_df.plot(y=\"loss\")"
   ]
  },
  {
   "cell_type": "code",
   "execution_count": 19,
   "metadata": {},
   "outputs": [
    {
     "data": {
      "text/plain": [
       "<matplotlib.axes._subplots.AxesSubplot at 0x1a46866390>"
      ]
     },
     "execution_count": 19,
     "metadata": {},
     "output_type": "execute_result"
    },
    {
     "data": {
      "image/png": "[encoded data removed]",
      "text/plain": [
       "<Figure size 432x288 with 1 Axes>"
      ]
     },
     "metadata": {
      "needs_background": "light"
     },
     "output_type": "display_data"
    }
   ],
   "source": [
    "# Plot the loss\n",
    "history_df.plot(y=\"accuracy\")"
   ]
  },
  {
   "cell_type": "code",
   "execution_count": 20,
   "metadata": {},
   "outputs": [],
   "source": [
    "# Generate our new Sequential model\n",
    "new_model = tf.keras.models.Sequential()"
   ]
  },
  {
   "cell_type": "code",
   "execution_count": 21,
   "metadata": {},
   "outputs": [],
   "source": [
    "# Add the input and hidden layer\n",
    "number_inputs = 2\n",
    "number_hidden_nodes = 6\n",
    "\n",
    "new_model.add(tf.keras.layers.Dense(units=number_hidden_nodes, activation=\"relu\", input_dim=number_inputs))\n",
    "\n",
    "# Add the output layer that uses a probability activation function\n",
    "new_model.add(tf.keras.layers.Dense(units=1, activation=\"sigmoid\"))"
   ]
  },
  {
   "cell_type": "code",
   "execution_count": 22,
   "metadata": {},
   "outputs": [
    {
     "name": "stdout",
     "output_type": "stream",
     "text": [
      "Train on 750 samples\n",
      "Epoch 1/100\n",
      "750/750 [==============================] - 1s 2ms/sample - loss: 0.8163 - accuracy: 0.4693\n",
      "Epoch 2/100\n",
      "750/750 [==============================] - 0s 122us/sample - loss: 0.7668 - accuracy: 0.4693\n",
      "Epoch 3/100\n",
      "750/750 [==============================] - 0s 114us/sample - loss: 0.7239 - accuracy: 0.4680\n",
      "Epoch 4/100\n",
      "750/750 [==============================] - 0s 127us/sample - loss: 0.6856 - accuracy: 0.4560\n",
      "Epoch 5/100\n",
      "750/750 [==============================] - 0s 133us/sample - loss: 0.6525 - accuracy: 0.4453\n",
      "Epoch 6/100\n",
      "750/750 [==============================] - 0s 119us/sample - loss: 0.6231 - accuracy: 0.4587\n",
      "Epoch 7/100\n",
      "750/750 [==============================] - 0s 123us/sample - loss: 0.5973 - accuracy: 0.5080\n",
      "Epoch 8/100\n",
      "750/750 [==============================] - 0s 123us/sample - loss: 0.5742 - accuracy: 0.5507\n",
      "Epoch 9/100\n",
      "750/750 [==============================] - 0s 129us/sample - loss: 0.5538 - accuracy: 0.5707\n",
      "Epoch 10/100\n",
      "750/750 [==============================] - 0s 114us/sample - loss: 0.5354 - accuracy: 0.5947\n",
      "Epoch 11/100\n",
      "750/750 [==============================] - 0s 128us/sample - loss: 0.5191 - accuracy: 0.6227\n",
      "Epoch 12/100\n",
      "750/750 [==============================] - 0s 129us/sample - loss: 0.5042 - accuracy: 0.6813\n",
      "Epoch 13/100\n",
      "750/750 [==============================] - 0s 117us/sample - loss: 0.4909 - accuracy: 0.7293\n",
      "Epoch 14/100\n",
      "750/750 [==============================] - 0s 132us/sample - loss: 0.4789 - accuracy: 0.8160\n",
      "Epoch 15/100\n",
      "750/750 [==============================] - 0s 128us/sample - loss: 0.4681 - accuracy: 0.8640\n",
      "Epoch 16/100\n",
      "750/750 [==============================] - 0s 167us/sample - loss: 0.4580 - accuracy: 0.8773\n",
      "Epoch 17/100\n",
      "750/750 [==============================] - 0s 138us/sample - loss: 0.4485 - accuracy: 0.8813\n",
      "Epoch 18/100\n",
      "750/750 [==============================] - 0s 117us/sample - loss: 0.4398 - accuracy: 0.8867\n",
      "Epoch 19/100\n",
      "750/750 [==============================] - 0s 131us/sample - loss: 0.4311 - accuracy: 0.8920\n",
      "Epoch 20/100\n",
      "750/750 [==============================] - 0s 117us/sample - loss: 0.4225 - accuracy: 0.8933\n",
      "Epoch 21/100\n",
      "750/750 [==============================] - 0s 133us/sample - loss: 0.4132 - accuracy: 0.8920\n",
      "Epoch 22/100\n",
      "750/750 [==============================] - 0s 129us/sample - loss: 0.4029 - accuracy: 0.8920\n",
      "Epoch 23/100\n",
      "750/750 [==============================] - 0s 166us/sample - loss: 0.3912 - accuracy: 0.8933\n",
      "Epoch 24/100\n",
      "750/750 [==============================] - 0s 140us/sample - loss: 0.3780 - accuracy: 0.8947\n",
      "Epoch 25/100\n",
      "750/750 [==============================] - 0s 129us/sample - loss: 0.3639 - accuracy: 0.8973\n",
      "Epoch 26/100\n",
      "750/750 [==============================] - 0s 133us/sample - loss: 0.3492 - accuracy: 0.8987\n",
      "Epoch 27/100\n",
      "750/750 [==============================] - 0s 145us/sample - loss: 0.3347 - accuracy: 0.9013\n",
      "Epoch 28/100\n",
      "750/750 [==============================] - 0s 128us/sample - loss: 0.3220 - accuracy: 0.9040\n",
      "Epoch 29/100\n",
      "750/750 [==============================] - 0s 125us/sample - loss: 0.3103 - accuracy: 0.9040\n",
      "Epoch 30/100\n",
      "750/750 [==============================] - 0s 126us/sample - loss: 0.3001 - accuracy: 0.9053\n",
      "Epoch 31/100\n",
      "750/750 [==============================] - 0s 115us/sample - loss: 0.2913 - accuracy: 0.9013\n",
      "Epoch 32/100\n",
      "750/750 [==============================] - 0s 133us/sample - loss: 0.2836 - accuracy: 0.9027\n",
      "Epoch 33/100\n",
      "750/750 [==============================] - 0s 125us/sample - loss: 0.2772 - accuracy: 0.9027\n",
      "Epoch 34/100\n",
      "750/750 [==============================] - 0s 131us/sample - loss: 0.2714 - accuracy: 0.9027\n",
      "Epoch 35/100\n",
      "750/750 [==============================] - 0s 115us/sample - loss: 0.2666 - accuracy: 0.9040\n",
      "Epoch 36/100\n",
      "750/750 [==============================] - 0s 125us/sample - loss: 0.2627 - accuracy: 0.9027\n",
      "Epoch 37/100\n",
      "750/750 [==============================] - 0s 123us/sample - loss: 0.2591 - accuracy: 0.9027\n",
      "Epoch 38/100\n",
      "750/750 [==============================] - 0s 155us/sample - loss: 0.2561 - accuracy: 0.9027\n",
      "Epoch 39/100\n",
      "750/750 [==============================] - 0s 132us/sample - loss: 0.2534 - accuracy: 0.9013\n",
      "Epoch 40/100\n",
      "750/750 [==============================] - 0s 115us/sample - loss: 0.2511 - accuracy: 0.9013\n",
      "Epoch 41/100\n",
      "750/750 [==============================] - 0s 125us/sample - loss: 0.2490 - accuracy: 0.9040\n",
      "Epoch 42/100\n",
      "750/750 [==============================] - 0s 134us/sample - loss: 0.2472 - accuracy: 0.9040\n",
      "Epoch 43/100\n",
      "750/750 [==============================] - 0s 119us/sample - loss: 0.2455 - accuracy: 0.9040\n",
      "Epoch 44/100\n",
      "750/750 [==============================] - 0s 130us/sample - loss: 0.2442 - accuracy: 0.9040\n",
      "Epoch 45/100\n",
      "750/750 [==============================] - 0s 132us/sample - loss: 0.2429 - accuracy: 0.9053\n",
      "Epoch 46/100\n",
      "750/750 [==============================] - 0s 153us/sample - loss: 0.2415 - accuracy: 0.9053\n",
      "Epoch 47/100\n",
      "750/750 [==============================] - 0s 121us/sample - loss: 0.2405 - accuracy: 0.9053\n",
      "Epoch 48/100\n",
      "750/750 [==============================] - 0s 138us/sample - loss: 0.2394 - accuracy: 0.9053\n",
      "Epoch 49/100\n",
      "750/750 [==============================] - 0s 122us/sample - loss: 0.2385 - accuracy: 0.9053\n",
      "Epoch 50/100\n",
      "750/750 [==============================] - 0s 136us/sample - loss: 0.2375 - accuracy: 0.9053\n",
      "Epoch 51/100\n",
      "750/750 [==============================] - 0s 142us/sample - loss: 0.2366 - accuracy: 0.9053\n",
      "Epoch 52/100\n",
      "750/750 [==============================] - 0s 118us/sample - loss: 0.2358 - accuracy: 0.9053\n",
      "Epoch 53/100\n",
      "750/750 [==============================] - 0s 162us/sample - loss: 0.2350 - accuracy: 0.9053\n",
      "Epoch 54/100\n",
      "750/750 [==============================] - 0s 120us/sample - loss: 0.2343 - accuracy: 0.9053\n",
      "Epoch 55/100\n",
      "750/750 [==============================] - 0s 110us/sample - loss: 0.2336 - accuracy: 0.9053\n",
      "Epoch 56/100\n",
      "750/750 [==============================] - 0s 139us/sample - loss: 0.2328 - accuracy: 0.9067\n",
      "Epoch 57/100\n",
      "750/750 [==============================] - 0s 126us/sample - loss: 0.2322 - accuracy: 0.9067\n",
      "Epoch 58/100\n",
      "750/750 [==============================] - 0s 111us/sample - loss: 0.2315 - accuracy: 0.9080\n",
      "Epoch 59/100\n",
      "750/750 [==============================] - 0s 124us/sample - loss: 0.2309 - accuracy: 0.9067\n",
      "Epoch 60/100\n",
      "750/750 [==============================] - 0s 98us/sample - loss: 0.2303 - accuracy: 0.9067\n",
      "Epoch 61/100\n",
      "750/750 [==============================] - 0s 126us/sample - loss: 0.2297 - accuracy: 0.9080\n",
      "Epoch 62/100\n",
      "750/750 [==============================] - 0s 122us/sample - loss: 0.2291 - accuracy: 0.9080\n",
      "Epoch 63/100\n",
      "750/750 [==============================] - 0s 104us/sample - loss: 0.2286 - accuracy: 0.9053\n",
      "Epoch 64/100\n",
      "750/750 [==============================] - 0s 133us/sample - loss: 0.2280 - accuracy: 0.9067\n",
      "Epoch 65/100\n",
      "750/750 [==============================] - 0s 106us/sample - loss: 0.2275 - accuracy: 0.9067\n",
      "Epoch 66/100\n",
      "750/750 [==============================] - 0s 128us/sample - loss: 0.2270 - accuracy: 0.9067\n",
      "Epoch 67/100\n",
      "750/750 [==============================] - 0s 122us/sample - loss: 0.2265 - accuracy: 0.9053\n",
      "Epoch 68/100\n",
      "750/750 [==============================] - 0s 126us/sample - loss: 0.2260 - accuracy: 0.9067\n",
      "Epoch 69/100\n",
      "750/750 [==============================] - 0s 100us/sample - loss: 0.2254 - accuracy: 0.9093\n",
      "Epoch 70/100\n",
      "750/750 [==============================] - 0s 129us/sample - loss: 0.2251 - accuracy: 0.9093\n",
      "Epoch 71/100\n",
      "750/750 [==============================] - 0s 134us/sample - loss: 0.2245 - accuracy: 0.9080\n",
      "Epoch 72/100\n",
      "750/750 [==============================] - 0s 124us/sample - loss: 0.2241 - accuracy: 0.9093\n",
      "Epoch 73/100\n",
      "750/750 [==============================] - 0s 126us/sample - loss: 0.2237 - accuracy: 0.9093\n",
      "Epoch 74/100\n",
      "750/750 [==============================] - 0s 105us/sample - loss: 0.2233 - accuracy: 0.9080\n",
      "Epoch 75/100\n",
      "750/750 [==============================] - 0s 124us/sample - loss: 0.2228 - accuracy: 0.9067\n",
      "Epoch 76/100\n",
      "750/750 [==============================] - 0s 117us/sample - loss: 0.2224 - accuracy: 0.9053\n",
      "Epoch 77/100\n",
      "750/750 [==============================] - 0s 128us/sample - loss: 0.2220 - accuracy: 0.9067\n",
      "Epoch 78/100\n"
     ]
    },
    {
     "name": "stdout",
     "output_type": "stream",
     "text": [
      "750/750 [==============================] - 0s 115us/sample - loss: 0.2218 - accuracy: 0.9053\n",
      "Epoch 79/100\n",
      "750/750 [==============================] - 0s 115us/sample - loss: 0.2212 - accuracy: 0.9053\n",
      "Epoch 80/100\n",
      "750/750 [==============================] - 0s 103us/sample - loss: 0.2208 - accuracy: 0.9067\n",
      "Epoch 81/100\n",
      "750/750 [==============================] - 0s 106us/sample - loss: 0.2205 - accuracy: 0.9067\n",
      "Epoch 82/100\n",
      "750/750 [==============================] - 0s 104us/sample - loss: 0.2201 - accuracy: 0.9080\n",
      "Epoch 83/100\n",
      "750/750 [==============================] - 0s 99us/sample - loss: 0.2197 - accuracy: 0.9080\n",
      "Epoch 84/100\n",
      "750/750 [==============================] - 0s 105us/sample - loss: 0.2194 - accuracy: 0.9080\n",
      "Epoch 85/100\n",
      "750/750 [==============================] - 0s 105us/sample - loss: 0.2191 - accuracy: 0.9080\n",
      "Epoch 86/100\n",
      "750/750 [==============================] - 0s 102us/sample - loss: 0.2187 - accuracy: 0.9080\n",
      "Epoch 87/100\n",
      "750/750 [==============================] - 0s 106us/sample - loss: 0.2184 - accuracy: 0.9067\n",
      "Epoch 88/100\n",
      "750/750 [==============================] - 0s 106us/sample - loss: 0.2181 - accuracy: 0.9053\n",
      "Epoch 89/100\n",
      "750/750 [==============================] - 0s 108us/sample - loss: 0.2178 - accuracy: 0.9053\n",
      "Epoch 90/100\n",
      "750/750 [==============================] - 0s 110us/sample - loss: 0.2175 - accuracy: 0.9053\n",
      "Epoch 91/100\n",
      "750/750 [==============================] - 0s 111us/sample - loss: 0.2172 - accuracy: 0.9053\n",
      "Epoch 92/100\n",
      "750/750 [==============================] - 0s 107us/sample - loss: 0.2169 - accuracy: 0.9053\n",
      "Epoch 93/100\n",
      "750/750 [==============================] - 0s 105us/sample - loss: 0.2166 - accuracy: 0.9053\n",
      "Epoch 94/100\n",
      "750/750 [==============================] - 0s 110us/sample - loss: 0.2164 - accuracy: 0.9053\n",
      "Epoch 95/100\n",
      "750/750 [==============================] - 0s 121us/sample - loss: 0.2161 - accuracy: 0.9053\n",
      "Epoch 96/100\n",
      "750/750 [==============================] - 0s 109us/sample - loss: 0.2158 - accuracy: 0.9040\n",
      "Epoch 97/100\n",
      "750/750 [==============================] - 0s 102us/sample - loss: 0.2155 - accuracy: 0.9053\n",
      "Epoch 98/100\n",
      "750/750 [==============================] - 0s 109us/sample - loss: 0.2153 - accuracy: 0.9067\n",
      "Epoch 99/100\n",
      "750/750 [==============================] - 0s 107us/sample - loss: 0.2150 - accuracy: 0.9040\n",
      "Epoch 100/100\n",
      "750/750 [==============================] - 0s 109us/sample - loss: 0.2148 - accuracy: 0.9040\n"
     ]
    }
   ],
   "source": [
    "# Compile the Sequential model together and customize metrics\n",
    "new_model.compile(loss=\"binary_crossentropy\", optimizer=\"adam\", metrics=[\"accuracy\"])\n",
    "\n",
    "# Fit the model to the training data\n",
    "new_fit_model = new_model.fit(X_moon_train_scaled, y_moon_train, epochs=100, shuffle=True)"
   ]
  },
  {
   "cell_type": "code",
   "execution_count": null,
   "metadata": {},
   "outputs": [],
   "source": []
  }
 ],
 "metadata": {
  "kernelspec": {
   "display_name": "Python 3",
   "language": "python",
   "name": "python3"
  },
  "language_info": {
   "codemirror_mode": {
    "name": "ipython",
    "version": 3
   },
   "file_extension": ".py",
   "mimetype": "text/x-python",
   "name": "python",
   "nbconvert_exporter": "python",
   "pygments_lexer": "ipython3",
   "version": "3.7.6"
  }
 },
 "nbformat": 4,
 "nbformat_minor": 4
}
